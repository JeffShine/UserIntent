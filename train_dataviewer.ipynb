{
 "cells": [
  {
   "cell_type": "code",
   "execution_count": 1,
   "metadata": {},
   "outputs": [],
   "source": [
    "import json\n",
    "with open('./train.json', 'r', encoding='utf-8') as file:\n",
    "    data = json.load(file)"
   ]
  },
  {
   "cell_type": "code",
   "execution_count": 2,
   "metadata": {},
   "outputs": [
    {
     "data": {
      "text/plain": [
       "1000"
      ]
     },
     "execution_count": 2,
     "metadata": {},
     "output_type": "execute_result"
    }
   ],
   "source": [
    "len(data)"
   ]
  },
  {
   "cell_type": "code",
   "execution_count": 3,
   "metadata": {},
   "outputs": [
    {
     "data": {
      "text/plain": [
       "{'id': '213e438b17282904772446704d0b28',\n",
       " 'instruction': '你是一个电商客服专家，请根据用户与客服的多轮对话判断用户的意图分类标签。\\n<用户与客服的对话 START>\\n用户: <image>\\n客服: 抱歉哦，小富目前还不能识别图片，您可以简单描述一下遇到的问题吗？/:068~~\\n用户: <http>\\n客服: 若您仍有疑问，可回复“客服”以便进一步协助您~\\n用户: 内胆使用的是316不锈钢吗\\n客服: 亲爱的，升级版的抗菌不锈钢是在304不锈钢的基础上改进的，它有抗菌功能（其内胆表面能够释放具有抑菌作用的铜离子，有效阻止大肠杆菌和金黄色葡萄球菌等有害细菌的生长）；不过它的抗酸碱和抗腐蚀性能比不上316不锈钢；而316不锈钢在抗腐蚀和抗酸碱方面表现更佳，但没有抗菌功能。  ▲对于居住在海边或喜欢储存各种饮品的人来说，推荐使用316不锈钢；如果是为了儿童使用，建议选择抗菌不锈钢；追求性价比的话，304不锈钢是不错的选择；/:810\\n<用户与客服的对话 END>\\n请直接只输出分类标签结果，不需要其他多余的话。以下是可以参考的分类标签为：[\"反馈密封性不好\",\"是否好用\",\"是否会生锈\",\"排水方式\",\"包装区别\",\"发货数量\",\"反馈用后症状\",\"商品材质\",\"功效功能\",\"是否易褪色\",\"适用季节\",\"能否调光\",\"版本款型区别\",\"单品推荐\",\"用法用量\",\"控制方式\",\"上市时间\",\"商品规格\",\"信号情况\",\"养护方法\",\"套装推荐\",\"何时上货\",\"气泡\"]\\n',\n",
       " 'input': '',\n",
       " 'output': '商品材质',\n",
       " 'image': ['213e438b17282904772446704d0b28-0.jpg']}"
      ]
     },
     "execution_count": 3,
     "metadata": {},
     "output_type": "execute_result"
    }
   ],
   "source": [
    "data[0]"
   ]
  },
  {
   "cell_type": "code",
   "execution_count": 4,
   "metadata": {},
   "outputs": [],
   "source": [
    "data_scene = []\n",
    "data_dialogue = []\n",
    "for dict in data:\n",
    "    instruction = dict['instruction']\n",
    "    if '你是一个电商领域识图专家,可以理解消费者上传的软件截图或实物拍摄图。' in instruction:\n",
    "        data_scene.append(dict)\n",
    "    elif '你是一个电商客服专家，请根据用户与客服的多轮对话判断用户的意图分类标签。' in instruction:\n",
    "        data_dialogue.append(dict)"
   ]
  },
  {
   "cell_type": "code",
   "execution_count": null,
   "metadata": {},
   "outputs": [
    {
     "data": {
      "text/plain": [
       "(700, 300)"
      ]
     },
     "execution_count": 5,
     "metadata": {},
     "output_type": "execute_result"
    }
   ],
   "source": [
    "len(data_scene), len(data_dialogue)\n",
    "# scene训练数据大小是测试数据的 700/5000\n",
    "# dialogue训练数据大小是测试数据的 300/5000"
   ]
  },
  {
   "cell_type": "code",
   "execution_count": null,
   "metadata": {
    "vscode": {
     "languageId": "ini"
    }
   },
   "outputs": [
    {
     "data": {
      "text/plain": [
       "{1: 700}"
      ]
     },
     "execution_count": 22,
     "metadata": {},
     "output_type": "execute_result"
    }
   ],
   "source": [
    "# 场景分类任务训练数据都只有一张图像\n",
    "image_lengths = [len(dict[\"image\"]) for dict in data_scene]\n",
    "image_lengths_distribution = {length: image_lengths.count(length) for length in set(image_lengths)}\n",
    "image_lengths_distribution"
   ]
  },
  {
   "cell_type": "code",
   "execution_count": 6,
   "metadata": {},
   "outputs": [
    {
     "data": {
      "text/plain": [
       "{0: 1, 1: 266, 2: 29, 3: 3, 4: 1}"
      ]
     },
     "execution_count": 6,
     "metadata": {},
     "output_type": "execute_result"
    }
   ],
   "source": [
    "# 对话分类任务有少部分多图情况，也有一个无图情况\n",
    "image_lengths = [len(dict[\"image\"]) for dict in data_dialogue]\n",
    "image_lengths_distribution = {length: image_lengths.count(length) for length in set(image_lengths)}\n",
    "image_lengths_distribution"
   ]
  },
  {
   "cell_type": "code",
   "execution_count": 7,
   "metadata": {},
   "outputs": [
    {
     "name": "stdout",
     "output_type": "stream",
     "text": [
      "*场景分类任务*\n",
      "Picture 1: <image>\n",
      "你是一个电商领域识图专家,可以理解消费者上传的软件截图或实物拍摄图。现在,请你对消费者上传的图片进行分类。你只需要回答图片分类结果,不需要其他多余的话。以下是可以参考的分类标签,分类标签:[\"实物拍摄(含售后)\",\"商品分类选项\",\"商品头图\",\"商品详情页截图\",\"下单过程中出现异常（显示购买失败浮窗）\",\"订单详情页面\",\"支付页面\",\"消费者与客服聊天页面\",\"评论区截图页面\",\"物流页面-物流列表页面\",\"物流页面-物流跟踪页面\",\"物流页面-物流异常页面\",\"退款页面\",\"退货页面\",\"换货页面\",\"购物车页面\",\"店铺页面\",\"活动页面\",\"优惠券领取页面\",\"账单/账户页面\",\"个人信息页面\",\"投诉举报页面\",\"平台介入页面\",\"外部APP截图\",\"其他类别图片\"]。\n",
      "*对话分类任务*\n",
      "你是一个电商客服专家，请根据用户与客服的多轮对话判断用户的意图分类标签。\n",
      "<用户与客服的对话 START>\n",
      "用户: <image>\n",
      "客服: 抱歉哦，小富目前还不能识别图片，您可以简单描述一下遇到的问题吗？/:068~~\n",
      "用户: <http>\n",
      "客服: 若您仍有疑问，可回复“客服”以便进一步协助您~\n",
      "用户: 内胆使用的是316不锈钢吗\n",
      "客服: 亲爱的，升级版的抗菌不锈钢是在304不锈钢的基础上改进的，它有抗菌功能（其内胆表面能够释放具有抑菌作用的铜离子，有效阻止大肠杆菌和金黄色葡萄球菌等有害细菌的生长）；不过它的抗酸碱和抗腐蚀性能比不上316不锈钢；而316不锈钢在抗腐蚀和抗酸碱方面表现更佳，但没有抗菌功能。  ▲对于居住在海边或喜欢储存各种饮品的人来说，推荐使用316不锈钢；如果是为了儿童使用，建议选择抗菌不锈钢；追求性价比的话，304不锈钢是不错的选择；/:810\n",
      "<用户与客服的对话 END>\n",
      "请直接只输出分类标签结果，不需要其他多余的话。以下是可以参考的分类标签为：[\"反馈密封性不好\",\"是否好用\",\"是否会生锈\",\"排水方式\",\"包装区别\",\"发货数量\",\"反馈用后症状\",\"商品材质\",\"功效功能\",\"是否易褪色\",\"适用季节\",\"能否调光\",\"版本款型区别\",\"单品推荐\",\"用法用量\",\"控制方式\",\"上市时间\",\"商品规格\",\"信号情况\",\"养护方法\",\"套装推荐\",\"何时上货\",\"气泡\"]\n",
      "\n"
     ]
    }
   ],
   "source": [
    "# 两类instruction举例\n",
    "print(f\"*场景分类任务*\\n{data_scene[0]['instruction']}\")\n",
    "print(f\"*对话分类任务*\\n{data_dialogue[0]['instruction']}\")\n",
    "# 发现场景分类任务instruction没有有效信息，对话分类任务instruction有有效对话信息"
   ]
  },
  {
   "cell_type": "code",
   "execution_count": 8,
   "metadata": {},
   "outputs": [
    {
     "data": {
      "text/plain": [
       "{'反馈密封性不好': 15,\n",
       " '是否好用': 8,\n",
       " '是否会生锈': 8,\n",
       " '排水方式': 9,\n",
       " '包装区别': 17,\n",
       " '发货数量': 14,\n",
       " '反馈用后症状': 4,\n",
       " '商品材质': 14,\n",
       " '功效功能': 17,\n",
       " '是否易褪色': 4,\n",
       " '适用季节': 24,\n",
       " '能否调光': 14,\n",
       " '版本款型区别': 18,\n",
       " '单品推荐': 20,\n",
       " '用法用量': 17,\n",
       " '控制方式': 12,\n",
       " '上市时间': 11,\n",
       " '商品规格': 13,\n",
       " '信号情况': 9,\n",
       " '养护方法': 10,\n",
       " '套装推荐': 17,\n",
       " '何时上货': 13,\n",
       " '气泡': 12}"
      ]
     },
     "execution_count": 8,
     "metadata": {},
     "output_type": "execute_result"
    }
   ],
   "source": [
    "### 对话任务label分布\n",
    "label_str = data_dialogue[0]['instruction'].split('标签为：')[1].strip()\n",
    "label = json.loads(label_str)\n",
    "label_dict = {key: 0 for key in label}\n",
    "for dict in data_dialogue:\n",
    "    output = dict['output']\n",
    "    label_dict[output] += 1\n",
    "label_dict"
   ]
  },
  {
   "cell_type": "code",
   "execution_count": 9,
   "metadata": {},
   "outputs": [
    {
     "data": {
      "text/plain": [
       "{'实物拍摄(含售后)': 23,\n",
       " '商品分类选项': 39,\n",
       " '商品头图': 37,\n",
       " '商品详情页截图': 38,\n",
       " '下单过程中出现异常（显示购买失败浮窗）': 28,\n",
       " '订单详情页面': 15,\n",
       " '支付页面': 37,\n",
       " '消费者与客服聊天页面': 0,\n",
       " '评论区截图页面': 27,\n",
       " '物流页面-物流列表页面': 15,\n",
       " '物流页面-物流跟踪页面': 26,\n",
       " '物流页面-物流异常页面': 25,\n",
       " '退款页面': 36,\n",
       " '退货页面': 37,\n",
       " '换货页面': 23,\n",
       " '购物车页面': 37,\n",
       " '店铺页面': 30,\n",
       " '活动页面': 38,\n",
       " '优惠券领取页面': 38,\n",
       " '账单/账户页面': 36,\n",
       " '个人信息页面': 0,\n",
       " '投诉举报页面': 31,\n",
       " '平台介入页面': 18,\n",
       " '外部APP截图': 31,\n",
       " '其他类别图片': 35}"
      ]
     },
     "execution_count": 9,
     "metadata": {},
     "output_type": "execute_result"
    }
   ],
   "source": [
    "### 场景任务label分布\n",
    "label_str = data_scene[0]['instruction'].split('分类标签:')[1].strip(\"。\")\n",
    "label = json.loads(label_str)\n",
    "label_dict = {key: 0 for key in label}\n",
    "for dict in data_scene:\n",
    "    output = dict['output']\n",
    "    label_dict[output] += 1\n",
    "label_dict"
   ]
  }
 ],
 "metadata": {
  "kernelspec": {
   "display_name": "Python 3",
   "language": "python",
   "name": "python3"
  },
  "language_info": {
   "codemirror_mode": {
    "name": "ipython",
    "version": 3
   },
   "file_extension": ".py",
   "mimetype": "text/x-python",
   "name": "python",
   "nbconvert_exporter": "python",
   "pygments_lexer": "ipython3",
   "version": "3.8.10"
  }
 },
 "nbformat": 4,
 "nbformat_minor": 2
}
